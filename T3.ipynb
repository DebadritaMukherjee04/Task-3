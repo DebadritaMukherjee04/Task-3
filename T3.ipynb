{
  "nbformat": 4,
  "nbformat_minor": 0,
  "metadata": {
    "colab": {
      "provenance": []
    },
    "kernelspec": {
      "name": "python3",
      "display_name": "Python 3"
    },
    "language_info": {
      "name": "python"
    }
  },
  "cells": [
    {
      "cell_type": "code",
      "execution_count": 1,
      "metadata": {
        "colab": {
          "base_uri": "https://localhost:8080/"
        },
        "id": "v9h5qJ5sSAQ3",
        "outputId": "8075ba40-9549-4b74-ebf5-8e96ea77e890"
      },
      "outputs": [
        {
          "output_type": "stream",
          "name": "stdout",
          "text": [
            "Collecting fastapi\n",
            "  Downloading fastapi-0.115.12-py3-none-any.whl.metadata (27 kB)\n",
            "Collecting uvicorn\n",
            "  Downloading uvicorn-0.34.1-py3-none-any.whl.metadata (6.5 kB)\n",
            "Requirement already satisfied: pydantic in /usr/local/lib/python3.11/dist-packages (2.11.3)\n",
            "Requirement already satisfied: scikit-learn in /usr/local/lib/python3.11/dist-packages (1.6.1)\n",
            "Requirement already satisfied: nltk in /usr/local/lib/python3.11/dist-packages (3.9.1)\n",
            "Requirement already satisfied: matplotlib in /usr/local/lib/python3.11/dist-packages (3.10.0)\n",
            "Requirement already satisfied: seaborn in /usr/local/lib/python3.11/dist-packages (0.13.2)\n",
            "Requirement already satisfied: requests in /usr/local/lib/python3.11/dist-packages (2.32.3)\n",
            "Requirement already satisfied: beautifulsoup4 in /usr/local/lib/python3.11/dist-packages (4.13.3)\n",
            "Collecting pyngrok\n",
            "  Downloading pyngrok-7.2.4-py3-none-any.whl.metadata (8.7 kB)\n",
            "Collecting starlette<0.47.0,>=0.40.0 (from fastapi)\n",
            "  Downloading starlette-0.46.2-py3-none-any.whl.metadata (6.2 kB)\n",
            "Requirement already satisfied: typing-extensions>=4.8.0 in /usr/local/lib/python3.11/dist-packages (from fastapi) (4.13.1)\n",
            "Requirement already satisfied: click>=7.0 in /usr/local/lib/python3.11/dist-packages (from uvicorn) (8.1.8)\n",
            "Requirement already satisfied: h11>=0.8 in /usr/local/lib/python3.11/dist-packages (from uvicorn) (0.14.0)\n",
            "Requirement already satisfied: annotated-types>=0.6.0 in /usr/local/lib/python3.11/dist-packages (from pydantic) (0.7.0)\n",
            "Requirement already satisfied: pydantic-core==2.33.1 in /usr/local/lib/python3.11/dist-packages (from pydantic) (2.33.1)\n",
            "Requirement already satisfied: typing-inspection>=0.4.0 in /usr/local/lib/python3.11/dist-packages (from pydantic) (0.4.0)\n",
            "Requirement already satisfied: numpy>=1.19.5 in /usr/local/lib/python3.11/dist-packages (from scikit-learn) (2.0.2)\n",
            "Requirement already satisfied: scipy>=1.6.0 in /usr/local/lib/python3.11/dist-packages (from scikit-learn) (1.14.1)\n",
            "Requirement already satisfied: joblib>=1.2.0 in /usr/local/lib/python3.11/dist-packages (from scikit-learn) (1.4.2)\n",
            "Requirement already satisfied: threadpoolctl>=3.1.0 in /usr/local/lib/python3.11/dist-packages (from scikit-learn) (3.6.0)\n",
            "Requirement already satisfied: regex>=2021.8.3 in /usr/local/lib/python3.11/dist-packages (from nltk) (2024.11.6)\n",
            "Requirement already satisfied: tqdm in /usr/local/lib/python3.11/dist-packages (from nltk) (4.67.1)\n",
            "Requirement already satisfied: contourpy>=1.0.1 in /usr/local/lib/python3.11/dist-packages (from matplotlib) (1.3.1)\n",
            "Requirement already satisfied: cycler>=0.10 in /usr/local/lib/python3.11/dist-packages (from matplotlib) (0.12.1)\n",
            "Requirement already satisfied: fonttools>=4.22.0 in /usr/local/lib/python3.11/dist-packages (from matplotlib) (4.57.0)\n",
            "Requirement already satisfied: kiwisolver>=1.3.1 in /usr/local/lib/python3.11/dist-packages (from matplotlib) (1.4.8)\n",
            "Requirement already satisfied: packaging>=20.0 in /usr/local/lib/python3.11/dist-packages (from matplotlib) (24.2)\n",
            "Requirement already satisfied: pillow>=8 in /usr/local/lib/python3.11/dist-packages (from matplotlib) (11.1.0)\n",
            "Requirement already satisfied: pyparsing>=2.3.1 in /usr/local/lib/python3.11/dist-packages (from matplotlib) (3.2.3)\n",
            "Requirement already satisfied: python-dateutil>=2.7 in /usr/local/lib/python3.11/dist-packages (from matplotlib) (2.8.2)\n",
            "Requirement already satisfied: pandas>=1.2 in /usr/local/lib/python3.11/dist-packages (from seaborn) (2.2.2)\n",
            "Requirement already satisfied: charset-normalizer<4,>=2 in /usr/local/lib/python3.11/dist-packages (from requests) (3.4.1)\n",
            "Requirement already satisfied: idna<4,>=2.5 in /usr/local/lib/python3.11/dist-packages (from requests) (3.10)\n",
            "Requirement already satisfied: urllib3<3,>=1.21.1 in /usr/local/lib/python3.11/dist-packages (from requests) (2.3.0)\n",
            "Requirement already satisfied: certifi>=2017.4.17 in /usr/local/lib/python3.11/dist-packages (from requests) (2025.1.31)\n",
            "Requirement already satisfied: soupsieve>1.2 in /usr/local/lib/python3.11/dist-packages (from beautifulsoup4) (2.6)\n",
            "Requirement already satisfied: PyYAML>=5.1 in /usr/local/lib/python3.11/dist-packages (from pyngrok) (6.0.2)\n",
            "Requirement already satisfied: pytz>=2020.1 in /usr/local/lib/python3.11/dist-packages (from pandas>=1.2->seaborn) (2025.2)\n",
            "Requirement already satisfied: tzdata>=2022.7 in /usr/local/lib/python3.11/dist-packages (from pandas>=1.2->seaborn) (2025.2)\n",
            "Requirement already satisfied: six>=1.5 in /usr/local/lib/python3.11/dist-packages (from python-dateutil>=2.7->matplotlib) (1.17.0)\n",
            "Requirement already satisfied: anyio<5,>=3.6.2 in /usr/local/lib/python3.11/dist-packages (from starlette<0.47.0,>=0.40.0->fastapi) (4.9.0)\n",
            "Requirement already satisfied: sniffio>=1.1 in /usr/local/lib/python3.11/dist-packages (from anyio<5,>=3.6.2->starlette<0.47.0,>=0.40.0->fastapi) (1.3.1)\n",
            "Downloading fastapi-0.115.12-py3-none-any.whl (95 kB)\n",
            "\u001b[2K   \u001b[90m━━━━━━━━━━━━━━━━━━━━━━━━━━━━━━━━━━━━━━━━\u001b[0m \u001b[32m95.2/95.2 kB\u001b[0m \u001b[31m2.6 MB/s\u001b[0m eta \u001b[36m0:00:00\u001b[0m\n",
            "\u001b[?25hDownloading uvicorn-0.34.1-py3-none-any.whl (62 kB)\n",
            "\u001b[2K   \u001b[90m━━━━━━━━━━━━━━━━━━━━━━━━━━━━━━━━━━━━━━━━\u001b[0m \u001b[32m62.4/62.4 kB\u001b[0m \u001b[31m2.6 MB/s\u001b[0m eta \u001b[36m0:00:00\u001b[0m\n",
            "\u001b[?25hDownloading pyngrok-7.2.4-py3-none-any.whl (23 kB)\n",
            "Downloading starlette-0.46.2-py3-none-any.whl (72 kB)\n",
            "\u001b[2K   \u001b[90m━━━━━━━━━━━━━━━━━━━━━━━━━━━━━━━━━━━━━━━━\u001b[0m \u001b[32m72.0/72.0 kB\u001b[0m \u001b[31m4.7 MB/s\u001b[0m eta \u001b[36m0:00:00\u001b[0m\n",
            "\u001b[?25hInstalling collected packages: uvicorn, pyngrok, starlette, fastapi\n",
            "Successfully installed fastapi-0.115.12 pyngrok-7.2.4 starlette-0.46.2 uvicorn-0.34.1\n"
          ]
        }
      ],
      "source": [
        "!pip install fastapi uvicorn pydantic scikit-learn nltk matplotlib seaborn requests beautifulsoup4 pyngrok"
      ]
    },
    {
      "cell_type": "code",
      "source": [
        "# Import necessary libraries\n",
        "import pandas as pd\n",
        "import numpy as np\n",
        "import re\n",
        "import nltk\n",
        "from nltk.corpus import stopwords\n",
        "from nltk.stem import WordNetLemmatizer\n",
        "import matplotlib.pyplot as plt\n",
        "import seaborn as sns\n",
        "from sklearn.model_selection import train_test_split\n",
        "from sklearn.feature_extraction.text import TfidfVectorizer\n",
        "from sklearn.linear_model import LogisticRegression\n",
        "from sklearn.metrics import accuracy_score, classification_report, confusion_matrix\n",
        "import pickle\n",
        "import os\n",
        "import requests\n",
        "from bs4 import BeautifulSoup\n",
        "from pyngrok import ngrok"
      ],
      "metadata": {
        "id": "5sazEcs6SsfX"
      },
      "execution_count": 2,
      "outputs": []
    },
    {
      "cell_type": "code",
      "source": [
        "# Download necessary NLTK resources\n",
        "nltk.download('stopwords')\n",
        "nltk.download('wordnet')\n",
        "nltk.download('punkt')"
      ],
      "metadata": {
        "colab": {
          "base_uri": "https://localhost:8080/"
        },
        "id": "-6-8Z6MySz-K",
        "outputId": "7bff972c-f940-4f04-c708-773263e0fdf0"
      },
      "execution_count": 3,
      "outputs": [
        {
          "output_type": "stream",
          "name": "stderr",
          "text": [
            "[nltk_data] Downloading package stopwords to /root/nltk_data...\n",
            "[nltk_data]   Unzipping corpora/stopwords.zip.\n",
            "[nltk_data] Downloading package wordnet to /root/nltk_data...\n",
            "[nltk_data] Downloading package punkt to /root/nltk_data...\n",
            "[nltk_data]   Unzipping tokenizers/punkt.zip.\n"
          ]
        },
        {
          "output_type": "execute_result",
          "data": {
            "text/plain": [
              "True"
            ]
          },
          "metadata": {},
          "execution_count": 3
        }
      ]
    },
    {
      "cell_type": "code",
      "source": [
        "# Create project directory structure\n",
        "os.makedirs('data', exist_ok=True)\n",
        "os.makedirs('models', exist_ok=True)\n",
        "os.makedirs('app', exist_ok=True)\n",
        "os.makedirs('templates', exist_ok=True)"
      ],
      "metadata": {
        "id": "uVKKbC4bS01k"
      },
      "execution_count": 4,
      "outputs": []
    },
    {
      "cell_type": "code",
      "source": [
        "# Create sample data for demonstration\n",
        "def create_sample_data():\n",
        "    print(\"Creating sample movie review dataset...\")\n",
        "\n",
        "    # Create sample positive reviews\n",
        "    positive_reviews = [\n",
        "        \"This movie was fantastic! The acting was superb.\",\n",
        "        \"I loved every minute of this film. Great direction and amazing screenplay.\",\n",
        "        \"Best movie I've seen this year! Highly recommended.\",\n",
        "        \"The cinematography was breathtaking and the story was engaging.\",\n",
        "        \"An absolute masterpiece with incredible performances.\",\n",
        "        \"I was blown away by the plot twists and character development.\",\n",
        "        \"A perfect blend of action and emotion. Couldn't stop watching.\",\n",
        "        \"The director did an amazing job bringing this story to life.\",\n",
        "        \"Such a heartwarming movie with a powerful message.\",\n",
        "        \"Spectacular effects and a compelling storyline.\"\n",
        "    ]\n",
        "\n",
        "    # Create sample negative reviews\n",
        "    negative_reviews = [\n",
        "        \"This movie was terrible. Complete waste of time.\",\n",
        "        \"I couldn't finish watching it. The plot was nonsensical.\",\n",
        "        \"Awful acting and predictable storyline. Very disappointing.\",\n",
        "        \"The worst film I've seen in years. Avoid at all costs.\",\n",
        "        \"Boring and uninspired. I almost fell asleep.\",\n",
        "        \"The characters were one-dimensional and the dialogue was cringe-worthy.\",\n",
        "        \"A complete disaster from start to finish.\",\n",
        "        \"Nothing made sense in this movie. The editing was horrible.\",\n",
        "        \"Save your money and skip this one.\",\n",
        "        \"Painfully bad. I want my two hours back.\"\n",
        "    ]\n",
        "\n",
        "    # Combine reviews and create labels\n",
        "    reviews = positive_reviews + negative_reviews\n",
        "    labels = [1] * len(positive_reviews) + [0] * len(negative_reviews)\n",
        "\n",
        "    # Create DataFrame\n",
        "    df = pd.DataFrame({\n",
        "        'review': reviews,\n",
        "        'sentiment': labels\n",
        "    })\n",
        "\n",
        "    # Shuffle the DataFrame\n",
        "    df = df.sample(frac=1).reset_index(drop=True)\n",
        "\n",
        "    # Save to CSV\n",
        "    df.to_csv('data/movie_reviews.csv', index=False)\n",
        "    print(\"Sample dataset created and saved to data/movie_reviews.csv\")\n",
        "\n",
        "    return df"
      ],
      "metadata": {
        "id": "fgDOYJgHS4T1"
      },
      "execution_count": 5,
      "outputs": []
    },
    {
      "cell_type": "code",
      "source": [
        "# Text preprocessing function\n",
        "def preprocess_text(text):\n",
        "    # Initialize lemmatizer\n",
        "    lemmatizer = WordNetLemmatizer()\n",
        "\n",
        "    # Convert to lowercase\n",
        "    text = text.lower()\n",
        "\n",
        "    # Remove HTML tags\n",
        "    text = re.sub(r'<.*?>', '', text)\n",
        "\n",
        "    # Remove special characters and numbers\n",
        "    text = re.sub(r'[^a-zA-Z\\s]', '', text)\n",
        "\n",
        "    # Tokenize\n",
        "    tokens = nltk.word_tokenize(text)\n",
        "\n",
        "    # Remove stopwords and lemmatize\n",
        "    stop_words = set(stopwords.words('english'))\n",
        "    tokens = [lemmatizer.lemmatize(word) for word in tokens if word not in stop_words and len(word) > 2]\n",
        "\n",
        "    # Join tokens back into text\n",
        "    processed_text = ' '.join(tokens)\n",
        "\n",
        "    return processed_text"
      ],
      "metadata": {
        "id": "OvperG-BS9DM"
      },
      "execution_count": 6,
      "outputs": []
    },
    {
      "cell_type": "code",
      "source": [
        "# Data preparation function\n",
        "def prepare_data(df):\n",
        "    print(\"Preprocessing data...\")\n",
        "\n",
        "    # Apply preprocessing to reviews\n",
        "    df['processed_review'] = df['review'].apply(preprocess_text)\n",
        "\n",
        "    # Split data into training and testing sets\n",
        "    X_train, X_test, y_train, y_test = train_test_split(\n",
        "        df['processed_review'],\n",
        "        df['sentiment'],\n",
        "        test_size=0.2,\n",
        "        random_state=42\n",
        "    )\n",
        "\n",
        "    # Feature extraction using TF-IDF\n",
        "    vectorizer = TfidfVectorizer(max_features=5000)\n",
        "    X_train_vectorized = vectorizer.fit_transform(X_train)\n",
        "    X_test_vectorized = vectorizer.transform(X_test)\n",
        "\n",
        "    # Save the vectorizer\n",
        "    with open('models/tfidf_vectorizer.pkl', 'wb') as f:\n",
        "        pickle.dump(vectorizer, f)\n",
        "\n",
        "    print(\"Data preprocessing completed!\")\n",
        "\n",
        "    return X_train_vectorized, X_test_vectorized, y_train, y_test, vectorizer\n"
      ],
      "metadata": {
        "id": "EWK9Jd7VTAfK"
      },
      "execution_count": 7,
      "outputs": []
    },
    {
      "cell_type": "code",
      "source": [
        "# Model building function\n",
        "def build_model(X_train, y_train):\n",
        "    print(\"Building sentiment analysis model...\")\n",
        "\n",
        "    # Initialize and train Logistic Regression model\n",
        "    model = LogisticRegression(max_iter=1000)\n",
        "    model.fit(X_train, y_train)\n",
        "\n",
        "    # Save the model\n",
        "    with open('models/sentiment_model.pkl', 'wb') as f:\n",
        "        pickle.dump(model, f)\n",
        "\n",
        "    print(\"Model built and saved!\")\n",
        "\n",
        "    return model"
      ],
      "metadata": {
        "id": "IIpArdRYTEfF"
      },
      "execution_count": 8,
      "outputs": []
    },
    {
      "cell_type": "code",
      "source": [
        "# Model evaluation function\n",
        "def evaluate_model(model, X_test, y_test):\n",
        "    print(\"Evaluating model performance...\")\n",
        "\n",
        "    # Make predictions\n",
        "    y_pred = model.predict(X_test)\n",
        "\n",
        "    # Calculate accuracy\n",
        "    accuracy = accuracy_score(y_test, y_pred)\n",
        "    print(f\"Accuracy: {accuracy:.4f}\")\n",
        "\n",
        "    # Generate classification report\n",
        "    report = classification_report(y_test, y_pred)\n",
        "    print(\"Classification Report:\")\n",
        "    print(report)\n",
        "\n",
        "    # Create confusion matrix\n",
        "    cm = confusion_matrix(y_test, y_pred)\n",
        "    plt.figure(figsize=(8, 6))\n",
        "    sns.heatmap(cm, annot=True, fmt='d', cmap='Blues',\n",
        "                xticklabels=['Negative', 'Positive'],\n",
        "                yticklabels=['Negative', 'Positive'])\n",
        "    plt.xlabel('Predicted')\n",
        "    plt.ylabel('Actual')\n",
        "    plt.title('Confusion Matrix')\n",
        "    plt.savefig('data/confusion_matrix.png')\n",
        "    print(\"Confusion matrix saved to data/confusion_matrix.png\")\n",
        "\n",
        "    return accuracy, report"
      ],
      "metadata": {
        "id": "urHmeoVaTHNq"
      },
      "execution_count": 9,
      "outputs": []
    },
    {
      "cell_type": "code",
      "source": [
        "# Create FastAPI application\n",
        "def create_fastapi_app():\n",
        "    print(\"Creating FastAPI application...\")\n",
        "\n",
        "    # Create HTML template\n",
        "    with open(\"templates/index.html\", \"w\") as f:\n",
        "        f.write('''\n",
        "<!DOCTYPE html>\n",
        "<html>\n",
        "<head>\n",
        "    <title>Movie Review Sentiment Analysis</title>\n",
        "    <style>\n",
        "        body {\n",
        "            font-family: Arial, sans-serif;\n",
        "            max-width: 800px;\n",
        "            margin: 0 auto;\n",
        "            padding: 20px;\n",
        "        }\n",
        "        h1 {\n",
        "            color: #333;\n",
        "            text-align: center;\n",
        "        }\n",
        "        .form-group {\n",
        "            margin-bottom: 15px;\n",
        "        }\n",
        "        textarea {\n",
        "            width: 100%;\n",
        "            height: 150px;\n",
        "            padding: 12px;\n",
        "            border: 1px solid #ccc;\n",
        "            border-radius: 4px;\n",
        "            box-sizing: border-box;\n",
        "            resize: vertical;\n",
        "        }\n",
        "        button {\n",
        "            background-color: #4CAF50;\n",
        "            color: white;\n",
        "            padding: 12px 20px;\n",
        "            border: none;\n",
        "            border-radius: 4px;\n",
        "            cursor: pointer;\n",
        "        }\n",
        "        button:hover {\n",
        "            background-color: #45a049;\n",
        "        }\n",
        "        .result {\n",
        "            margin-top: 20px;\n",
        "            padding: 15px;\n",
        "            border-radius: 4px;\n",
        "        }\n",
        "        .positive {\n",
        "            background-color: #dff0d8;\n",
        "            border: 1px solid #d6e9c6;\n",
        "        }\n",
        "        .negative {\n",
        "            background-color: #f2dede;\n",
        "            border: 1px solid #ebccd1;\n",
        "        }\n",
        "        .hidden {\n",
        "            display: none;\n",
        "        }\n",
        "    </style>\n",
        "</head>\n",
        "<body>\n",
        "    <h1>Movie Review Sentiment Analysis</h1>\n",
        "    <div class=\"form-group\">\n",
        "        <label for=\"review\">Enter your movie review:</label>\n",
        "        <textarea id=\"review\" placeholder=\"Write your movie review here...\"></textarea>\n",
        "    </div>\n",
        "    <button id=\"analyze\">Analyze Sentiment</button>\n",
        "\n",
        "    <div id=\"result\" class=\"result hidden\">\n",
        "        <h2>Result:</h2>\n",
        "        <p>Sentiment: <span id=\"sentiment\"></span></p>\n",
        "        <p>Confidence: <span id=\"confidence\"></span>%</p>\n",
        "    </div>\n",
        "\n",
        "    <script>\n",
        "        document.getElementById('analyze').addEventListener('click', async () => {\n",
        "            const review = document.getElementById('review').value;\n",
        "\n",
        "            if (review.trim() === '') {\n",
        "                alert('Please enter a review!');\n",
        "                return;\n",
        "            }\n",
        "\n",
        "            try {\n",
        "                const response = await fetch('/predict', {\n",
        "                    method: 'POST',\n",
        "                    headers: {\n",
        "                        'Content-Type': 'application/json',\n",
        "                    },\n",
        "                    body: JSON.stringify({ review }),\n",
        "                });\n",
        "\n",
        "                const data = await response.json();\n",
        "\n",
        "                const resultDiv = document.getElementById('result');\n",
        "                resultDiv.className = data.sentiment.toLowerCase() === 'positive' ? 'result positive' : 'result negative';\n",
        "                resultDiv.classList.remove('hidden');\n",
        "\n",
        "                document.getElementById('sentiment').textContent = data.sentiment;\n",
        "                document.getElementById('confidence').textContent = (data.confidence * 100).toFixed(2);\n",
        "            } catch (error) {\n",
        "                console.error('Error:', error);\n",
        "                alert('An error occurred. Please try again.');\n",
        "            }\n",
        "        });\n",
        "    </script>\n",
        "</body>\n",
        "</html>\n",
        "''')\n",
        "\n",
        "   # Create FastAPI application file\n",
        "with open('app/main.py', 'w') as f:\n",
        "    f.write('''from fastapi import FastAPI, HTTPException, Request\n",
        "from fastapi.responses import HTMLResponse\n",
        "from fastapi.staticfiles import StaticFiles\n",
        "from fastapi.templating import Jinja2Templates\n",
        "from pydantic import BaseModel\n",
        "import pickle\n",
        "import numpy as np\n",
        "import os\n",
        "\n",
        "# Define the path to the models\n",
        "model_path = '../models/sentiment_model.pkl'\n",
        "vectorizer_path = '../models/tfidf_vectorizer.pkl'\n",
        "\n",
        "# Check if we need to adjust paths (for Colab environment)\n",
        "if not os.path.exists(model_path):\n",
        "    model_path = 'models/sentiment_model.pkl'\n",
        "    vectorizer_path = 'models/tfidf_vectorizer.pkl'\n",
        "\n",
        "# Load the model and vectorizer\n",
        "with open(model_path, 'rb') as f:\n",
        "    model = pickle.load(f)\n",
        "\n",
        "with open(vectorizer_path, 'rb') as f:\n",
        "    vectorizer = pickle.load(f)\n",
        "\n",
        "app = FastAPI(title=\"Movie Review Sentiment Analysis API\")\n",
        "\n",
        "# Define request model\n",
        "class ReviewRequest(BaseModel):\n",
        "    review: str\n",
        "\n",
        "# Define response model\n",
        "class SentimentResponse(BaseModel):\n",
        "    review: str\n",
        "    sentiment: str\n",
        "    confidence: float\n",
        "\n",
        "# Create templates directory\n",
        "templates = Jinja2Templates(directory=\"templates\")\n",
        "\n",
        "# Define routes\n",
        "@app.get(\"/\", response_class=HTMLResponse)\n",
        "async def read_root(request: Request):\n",
        "    return templates.TemplateResponse(\"index.html\", {\"request\": request})\n",
        "\n",
        "@app.post(\"/predict\", response_model=SentimentResponse)\n",
        "async def predict_sentiment(request: ReviewRequest):\n",
        "    # Preprocess and predict\n",
        "    review_vectorized = vectorizer.transform([request.review])\n",
        "    prediction_proba = model.predict_proba(review_vectorized)[0]\n",
        "    sentiment_label = \"Positive\" if prediction_proba[1] > 0.5 else \"Negative\"\n",
        "    confidence = prediction_proba[1] if sentiment_label == \"Positive\" else prediction_proba[0]\n",
        "\n",
        "    return SentimentResponse(\n",
        "        review=request.review,\n",
        "        sentiment=sentiment_label,\n",
        "        confidence=float(confidence)\n",
        "    )\n",
        "''')"
      ],
      "metadata": {
        "id": "rFeM1kK-TKhF"
      },
      "execution_count": 12,
      "outputs": []
    },
    {
      "cell_type": "code",
      "source": [
        "from pydantic import BaseModel\n",
        "\n",
        "# Define request model\n",
        "class ReviewRequest(BaseModel):\n",
        "    review: str"
      ],
      "metadata": {
        "id": "u_1r-j0bUrvs"
      },
      "execution_count": 14,
      "outputs": []
    },
    {
      "cell_type": "code",
      "source": [
        "# Define request model\n",
        "class ReviewRequest(BaseModel):\n",
        "    review: str"
      ],
      "metadata": {
        "id": "ai7-0WKqTQCD"
      },
      "execution_count": 15,
      "outputs": []
    },
    {
      "cell_type": "code",
      "source": [
        "# Define response model\n",
        "class SentimentResponse(BaseModel):\n",
        "    review: str\n",
        "    sentiment: str\n",
        "    confidence: float\n"
      ],
      "metadata": {
        "id": "E21SmRwfTzkd"
      },
      "execution_count": 16,
      "outputs": []
    },
    {
      "cell_type": "code",
      "source": [
        "from fastapi.templating import Jinja2Templates"
      ],
      "metadata": {
        "id": "ux_m4DVtVDDU"
      },
      "execution_count": 18,
      "outputs": []
    },
    {
      "cell_type": "code",
      "source": [
        "# Create templates directory\n",
        "templates = Jinja2Templates(directory=\"templates\")"
      ],
      "metadata": {
        "id": "5yHUOHr_Uw9l"
      },
      "execution_count": 19,
      "outputs": []
    },
    {
      "cell_type": "code",
      "source": [
        "from fastapi import FastAPI\n",
        "\n",
        "app = FastAPI()"
      ],
      "metadata": {
        "id": "rl_T2g3pWxRx"
      },
      "execution_count": 23,
      "outputs": []
    },
    {
      "cell_type": "code",
      "source": [
        "import joblib\n",
        "from sklearn.feature_extraction.text import CountVectorizer\n",
        "from sklearn.naive_bayes import MultinomialNB\n",
        "\n",
        "# Sample training data\n",
        "reviews = [\n",
        "    \"I love this product\",\n",
        "    \"This is an amazing experience\",\n",
        "    \"Absolutely fantastic!\",\n",
        "    \"I hate this\",\n",
        "    \"Terrible and disappointing\",\n",
        "    \"Worst experience ever\"\n",
        "]\n",
        "\n",
        "labels = [1, 1, 1, 0, 0, 0]  # 1 = Positive, 0 = Negative\n",
        "\n",
        "# Vectorize text data\n",
        "vectorizer = CountVectorizer()\n",
        "X = vectorizer.fit_transform(reviews)\n",
        "\n",
        "# Train a simple Naive Bayes classifier\n",
        "model = MultinomialNB()\n",
        "model.fit(X, labels)\n",
        "\n",
        "# Save both model and vectorizer\n",
        "joblib.dump(model, \"sentiment_model.pkl\")\n",
        "joblib.dump(vectorizer, \"vectorizer.pkl\")\n"
      ],
      "metadata": {
        "colab": {
          "base_uri": "https://localhost:8080/"
        },
        "id": "OSujhfigXf7K",
        "outputId": "778c25b0-e1c4-4fbb-f256-ad1776f36a38"
      },
      "execution_count": 26,
      "outputs": [
        {
          "output_type": "execute_result",
          "data": {
            "text/plain": [
              "['vectorizer.pkl']"
            ]
          },
          "metadata": {},
          "execution_count": 26
        }
      ]
    },
    {
      "cell_type": "code",
      "source": [
        "from fastapi import FastAPI, Request\n",
        "from fastapi.responses import HTMLResponse\n",
        "from fastapi.templating import Jinja2Templates\n",
        "from pydantic import BaseModel\n",
        "from typing import Optional\n",
        "\n",
        "import joblib  # Assuming model and vectorizer are loaded via joblib\n",
        "\n",
        "# Load model and vectorizer\n",
        "model = joblib.load(\"sentiment_model.pkl\")\n",
        "vectorizer = joblib.load(\"vectorizer.pkl\")\n",
        "\n",
        "# Initialize app and template directory\n",
        "app = FastAPI()\n",
        "templates = Jinja2Templates(directory=\"templates\")\n",
        "\n",
        "# Request and Response models\n",
        "class ReviewRequest(BaseModel):\n",
        "    review: str\n",
        "\n",
        "class SentimentResponse(BaseModel):\n",
        "    review: str\n",
        "    sentiment: str\n",
        "    confidence: float\n",
        "\n",
        "# Route to render homepage\n",
        "@app.get(\"/\", response_class=HTMLResponse)\n",
        "async def read_root(request: Request):\n",
        "    return templates.TemplateResponse(\"index.html\", {\"request\": request})\n",
        "\n",
        "# Route to handle sentiment prediction\n",
        "@app.post(\"/predict\", response_model=SentimentResponse)\n",
        "async def predict_sentiment(request: ReviewRequest):\n",
        "    # Preprocess and predict\n",
        "    review_vectorized = vectorizer.transform([request.review])\n",
        "    prediction_proba = model.predict_proba(review_vectorized)[0]\n",
        "\n",
        "    sentiment_label = \"Positive\" if prediction_proba[1] > 0.5 else \"Negative\"\n",
        "    confidence = prediction_proba[1] if sentiment_label == \"Positive\" else prediction_proba[0]\n",
        "\n",
        "    return SentimentResponse(\n",
        "        review=request.review,\n",
        "        sentiment=sentiment_label,\n",
        "        confidence=float(confidence)\n",
        "    )\n"
      ],
      "metadata": {
        "id": "q_BcAUrCUz0k"
      },
      "execution_count": 27,
      "outputs": []
    },
    {
      "cell_type": "code",
      "source": [
        "import nltk\n",
        "\n",
        "# Automatically download required NLTK resources\n",
        "nltk.download('punkt')\n",
        "nltk.download('stopwords')\n"
      ],
      "metadata": {
        "colab": {
          "base_uri": "https://localhost:8080/"
        },
        "id": "nIUk7BkvX5r5",
        "outputId": "145b2456-bdfa-47d9-d2b7-902647521b77"
      },
      "execution_count": 30,
      "outputs": [
        {
          "output_type": "stream",
          "name": "stderr",
          "text": [
            "[nltk_data] Downloading package punkt to /root/nltk_data...\n",
            "[nltk_data]   Package punkt is already up-to-date!\n",
            "[nltk_data] Downloading package stopwords to /root/nltk_data...\n",
            "[nltk_data]   Package stopwords is already up-to-date!\n"
          ]
        },
        {
          "output_type": "execute_result",
          "data": {
            "text/plain": [
              "True"
            ]
          },
          "metadata": {},
          "execution_count": 30
        }
      ]
    },
    {
      "cell_type": "code",
      "source": [
        "import nltk\n",
        "\n",
        "# Download the tabular tokenizer\n",
        "nltk.download('punkt_tab')\n"
      ],
      "metadata": {
        "colab": {
          "base_uri": "https://localhost:8080/"
        },
        "id": "lnt7FlBRYMJb",
        "outputId": "d197737c-658f-4405-f41e-3507be44fc90"
      },
      "execution_count": 31,
      "outputs": [
        {
          "output_type": "stream",
          "name": "stderr",
          "text": [
            "[nltk_data] Downloading package punkt_tab to /root/nltk_data...\n",
            "[nltk_data]   Unzipping tokenizers/punkt_tab.zip.\n"
          ]
        },
        {
          "output_type": "execute_result",
          "data": {
            "text/plain": [
              "True"
            ]
          },
          "metadata": {},
          "execution_count": 31
        }
      ]
    },
    {
      "cell_type": "code",
      "source": [
        "# Main execution function\n",
        "def main():\n",
        "    print(\"Starting end-to-end data science project...\")\n",
        "\n",
        "    # 1. Data Collection (using sample data)\n",
        "    df = create_sample_data()\n",
        "\n",
        "    # 2. Data Preprocessing\n",
        "    X_train, X_test, y_train, y_test, vectorizer = prepare_data(df)\n",
        "\n",
        "    # 3. Model Building\n",
        "    model = build_model(X_train, y_train)\n",
        "\n",
        "    # 4. Model Evaluation\n",
        "    accuracy, report = evaluate_model(model, X_test, y_test)\n",
        "\n",
        "    # 5. Create FastAPI Application\n",
        "    create_fastapi_app()\n",
        "\n",
        "    print(\"\\n=== Project Completed Successfully! ===\")\n",
        "    print(f\"Model Accuracy: {accuracy:.4f}\")\n",
        "\n",
        "# Function to run the FastAPI app in Colab with ngrok\n",
        "def run_app():\n",
        "    # Start ngrok tunnel\n",
        "    ngrok_tunnel = ngrok.connect(8000)\n",
        "    print(f\"Public URL: {ngrok_tunnel.public_url}\")\n",
        "    print(\"Copy this URL to access your web app\")\n",
        "\n",
        "    # Change to the app directory and run uvicorn\n",
        "    os.system(\"cd app && python -m uvicorn main:app --host 0.0.0.0 --port 8000\")\n",
        "\n",
        "# Execute the main function\n",
        "if __name__ == \"__main__\":\n",
        "    main()"
      ],
      "metadata": {
        "colab": {
          "base_uri": "https://localhost:8080/",
          "height": 981
        },
        "id": "UAzihyFHVHTo",
        "outputId": "54ec1504-0917-4ad1-ab8d-ac3830c19dda"
      },
      "execution_count": 32,
      "outputs": [
        {
          "output_type": "stream",
          "name": "stdout",
          "text": [
            "Starting end-to-end data science project...\n",
            "Creating sample movie review dataset...\n",
            "Sample dataset created and saved to data/movie_reviews.csv\n",
            "Preprocessing data...\n",
            "Data preprocessing completed!\n",
            "Building sentiment analysis model...\n",
            "Model built and saved!\n",
            "Evaluating model performance...\n",
            "Accuracy: 0.0000\n",
            "Classification Report:\n",
            "              precision    recall  f1-score   support\n",
            "\n",
            "           0       0.00      0.00      0.00       2.0\n",
            "           1       0.00      0.00      0.00       2.0\n",
            "\n",
            "    accuracy                           0.00       4.0\n",
            "   macro avg       0.00      0.00      0.00       4.0\n",
            "weighted avg       0.00      0.00      0.00       4.0\n",
            "\n",
            "Confusion matrix saved to data/confusion_matrix.png\n",
            "Creating FastAPI application...\n",
            "\n",
            "=== Project Completed Successfully! ===\n",
            "Model Accuracy: 0.0000\n"
          ]
        },
        {
          "output_type": "display_data",
          "data": {
            "text/plain": [
              "<Figure size 800x600 with 2 Axes>"
            ],
            "image/png": "[encoded data removed]"
          },
          "metadata": {}
        }
      ]
    },
    {
      "cell_type": "code",
      "source": [],
      "metadata": {
        "id": "BoYLUhmRXloJ"
      },
      "execution_count": null,
      "outputs": []
    }
  ]
}